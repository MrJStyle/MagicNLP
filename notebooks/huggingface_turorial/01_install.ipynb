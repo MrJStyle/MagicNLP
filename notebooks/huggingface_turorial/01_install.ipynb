{
 "cells": [
  {
   "cell_type": "markdown",
   "source": [
    "# 安装 transformers"
   ],
   "metadata": {
    "collapsed": false,
    "pycharm": {
     "name": "#%% md\n"
    }
   }
  },
  {
   "cell_type": "code",
   "execution_count": 18,
   "outputs": [
    {
     "name": "stdout",
     "output_type": "stream",
     "text": [
      "Collecting package metadata (current_repodata.json): done\r\n",
      "Solving environment: done\r\n",
      "\r\n",
      "# All requested packages already installed.\r\n",
      "\r\n"
     ]
    }
   ],
   "source": [
    "# ! pip install --force-reinstall transformers\n",
    "! pip install --force-reinstall huggingface_hub\n",
    "\n",
    "! conda install -c huggingface -y transformers"
   ],
   "metadata": {
    "collapsed": false,
    "pycharm": {
     "name": "#%%\n"
    }
   }
  },
  {
   "cell_type": "markdown",
   "source": [
    "# 安装 datasets"
   ],
   "metadata": {
    "collapsed": false,
    "pycharm": {
     "name": "#%% md\n"
    }
   }
  },
  {
   "cell_type": "code",
   "execution_count": 9,
   "outputs": [
    {
     "name": "stdout",
     "output_type": "stream",
     "text": [
      "Looking in indexes: https://pypi.douban.com/simple\r\n",
      "Collecting datasets\r\n",
      "  Downloading https://pypi.doubanio.com/packages/13/68/8f123cf1b84fc32d749357b2c7ed6e9e61c06246965ba7f6f7a78cba54e9/datasets-2.4.0-py3-none-any.whl (365 kB)\r\n",
      "\u001B[2K     \u001B[90m━━━━━━━━━━━━━━━━━━━━━━━━━━━━━━━━━━━━━━━\u001B[0m \u001B[32m365.7/365.7 kB\u001B[0m \u001B[31m1.9 MB/s\u001B[0m eta \u001B[36m0:00:00\u001B[0m00:01\u001B[0m00:01\u001B[0m\r\n",
      "\u001B[?25hCollecting xxhash\r\n",
      "  Downloading https://pypi.doubanio.com/packages/99/a6/1cd41787fe0507b9b5aa7adba5a46c999f1bcd97f0540a9785f2e157fe9c/xxhash-3.0.0-cp39-cp39-macosx_11_0_arm64.whl (30 kB)\r\n",
      "Requirement already satisfied: pyarrow>=6.0.0 in /Users/luominzhi/miniforge3/envs/python-3.9/lib/python3.9/site-packages (from datasets) (8.0.0)\r\n",
      "Requirement already satisfied: huggingface-hub<1.0.0,>=0.1.0 in /Users/luominzhi/miniforge3/envs/python-3.9/lib/python3.9/site-packages/huggingface_hub-0.9.0.dev0-py3.8.egg (from datasets) (0.9.0.dev0)\r\n",
      "Requirement already satisfied: packaging in /Users/luominzhi/miniforge3/envs/python-3.9/lib/python3.9/site-packages (from datasets) (21.3)\r\n",
      "Collecting dill<0.3.6\r\n",
      "  Downloading https://pypi.doubanio.com/packages/12/ff/3b1a8f5d59600393506c64fa14d13afdfe6fe79ed65a18d64026fe9f8356/dill-0.3.5.1-py2.py3-none-any.whl (95 kB)\r\n",
      "\u001B[2K     \u001B[90m━━━━━━━━━━━━━━━━━━━━━━━━━━━━━━━━━━━━━━━━\u001B[0m \u001B[32m95.8/95.8 kB\u001B[0m \u001B[31m2.0 MB/s\u001B[0m eta \u001B[36m0:00:00\u001B[0ma \u001B[36m0:00:01\u001B[0m\r\n",
      "\u001B[?25hRequirement already satisfied: pandas in /Users/luominzhi/miniforge3/envs/python-3.9/lib/python3.9/site-packages (from datasets) (1.4.2)\r\n",
      "Requirement already satisfied: numpy>=1.17 in /Users/luominzhi/miniforge3/envs/python-3.9/lib/python3.9/site-packages (from datasets) (1.22.4)\r\n",
      "Collecting aiohttp\r\n",
      "  Downloading https://pypi.doubanio.com/packages/64/0f/bad91b74658ffea95982794603106c7d751734bb4e8e1f83c654a11ef971/aiohttp-3.8.1-cp39-cp39-macosx_11_0_arm64.whl (552 kB)\r\n",
      "\u001B[2K     \u001B[90m━━━━━━━━━━━━━━━━━━━━━━━━━━━━━━━━━━━━━━━\u001B[0m \u001B[32m552.3/552.3 kB\u001B[0m \u001B[31m3.3 MB/s\u001B[0m eta \u001B[36m0:00:00\u001B[0m00:01\u001B[0m00:01\u001B[0m\r\n",
      "\u001B[?25hRequirement already satisfied: requests>=2.19.0 in /Users/luominzhi/miniforge3/envs/python-3.9/lib/python3.9/site-packages (from datasets) (2.28.1)\r\n",
      "Collecting fsspec[http]>=2021.11.1\r\n",
      "  Downloading https://pypi.doubanio.com/packages/58/fe/96674000d326e859ca2c654eeb9178f728e79ab466c2195bee305773d5a3/fsspec-2022.7.1-py3-none-any.whl (141 kB)\r\n",
      "\u001B[2K     \u001B[90m━━━━━━━━━━━━━━━━━━━━━━━━━━━━━━━━━━━━━━━\u001B[0m \u001B[32m141.2/141.2 kB\u001B[0m \u001B[31m3.3 MB/s\u001B[0m eta \u001B[36m0:00:00\u001B[0ma \u001B[36m0:00:01\u001B[0m\r\n",
      "\u001B[?25hCollecting responses<0.19\r\n",
      "  Downloading https://pypi.doubanio.com/packages/79/f3/2b3a6dc5986303b3dd1bbbcf482022acb2583c428cd23f0b6d37b1a1a519/responses-0.18.0-py3-none-any.whl (38 kB)\r\n",
      "Collecting multiprocess\r\n",
      "  Downloading https://pypi.doubanio.com/packages/e1/a4/98f97b3aaa84b8be6702bad22ee9893dd506ed7c9dbfdad481793677066b/multiprocess-0.70.13-py39-none-any.whl (132 kB)\r\n",
      "\u001B[2K     \u001B[90m━━━━━━━━━━━━━━━━━━━━━━━━━━━━━━━━━━━━━━━\u001B[0m \u001B[32m132.3/132.3 kB\u001B[0m \u001B[31m3.4 MB/s\u001B[0m eta \u001B[36m0:00:00\u001B[0ma \u001B[36m0:00:01\u001B[0m\r\n",
      "\u001B[?25hRequirement already satisfied: tqdm>=4.62.1 in /Users/luominzhi/miniforge3/envs/python-3.9/lib/python3.9/site-packages (from datasets) (4.64.0)\r\n",
      "Requirement already satisfied: filelock in /Users/luominzhi/miniforge3/envs/python-3.9/lib/python3.9/site-packages (from huggingface-hub<1.0.0,>=0.1.0->datasets) (3.7.1)\r\n",
      "Requirement already satisfied: pyyaml>=5.1 in /Users/luominzhi/miniforge3/envs/python-3.9/lib/python3.9/site-packages (from huggingface-hub<1.0.0,>=0.1.0->datasets) (6.0)\r\n",
      "Requirement already satisfied: typing-extensions>=3.7.4.3 in /Users/luominzhi/miniforge3/envs/python-3.9/lib/python3.9/site-packages (from huggingface-hub<1.0.0,>=0.1.0->datasets) (4.3.0)\r\n",
      "Requirement already satisfied: pyparsing!=3.0.5,>=2.0.2 in /Users/luominzhi/miniforge3/envs/python-3.9/lib/python3.9/site-packages (from packaging->datasets) (3.0.9)\r\n",
      "Requirement already satisfied: idna<4,>=2.5 in /Users/luominzhi/miniforge3/envs/python-3.9/lib/python3.9/site-packages (from requests>=2.19.0->datasets) (3.3)\r\n",
      "Requirement already satisfied: certifi>=2017.4.17 in /Users/luominzhi/miniforge3/envs/python-3.9/lib/python3.9/site-packages (from requests>=2.19.0->datasets) (2022.6.15)\r\n",
      "Requirement already satisfied: charset-normalizer<3,>=2 in /Users/luominzhi/miniforge3/envs/python-3.9/lib/python3.9/site-packages (from requests>=2.19.0->datasets) (2.0.12)\r\n",
      "Requirement already satisfied: urllib3<1.27,>=1.21.1 in /Users/luominzhi/miniforge3/envs/python-3.9/lib/python3.9/site-packages (from requests>=2.19.0->datasets) (1.26.11)\r\n",
      "Collecting yarl<2.0,>=1.0\r\n",
      "  Downloading https://pypi.doubanio.com/packages/5e/6b/012f4874880fb40f09c794f62b79fc32291837797a5929914832ced2cdb3/yarl-1.8.1-cp39-cp39-macosx_11_0_arm64.whl (57 kB)\r\n",
      "\u001B[2K     \u001B[90m━━━━━━━━━━━━━━━━━━━━━━━━━━━━━━━━━━━━━━━\u001B[0m \u001B[32m57.6/57.6 kB\u001B[0m \u001B[31m168.8 kB/s\u001B[0m eta \u001B[36m0:00:00\u001B[0ma \u001B[36m0:00:01\u001B[0m\r\n",
      "\u001B[?25hRequirement already satisfied: attrs>=17.3.0 in /Users/luominzhi/miniforge3/envs/python-3.9/lib/python3.9/site-packages (from aiohttp->datasets) (21.4.0)\r\n",
      "Collecting multidict<7.0,>=4.5\r\n",
      "  Downloading https://pypi.doubanio.com/packages/98/16/7af490ccfe470dad4b3d28fc69b1f3b4cdfe0fd5e279b299e103edbb8505/multidict-6.0.2-cp39-cp39-macosx_11_0_arm64.whl (29 kB)\r\n",
      "Collecting async-timeout<5.0,>=4.0.0a3\r\n",
      "  Downloading https://pypi.doubanio.com/packages/d6/c1/8991e7c5385b897b8c020cdaad718c5b087a6626d1d11a23e1ea87e325a7/async_timeout-4.0.2-py3-none-any.whl (5.8 kB)\r\n",
      "Collecting aiosignal>=1.1.2\r\n",
      "  Downloading https://pypi.doubanio.com/packages/3b/87/fe94898f2d44a93a35d5aa74671ed28094d80753a1113d68b799fab6dc22/aiosignal-1.2.0-py3-none-any.whl (8.2 kB)\r\n",
      "Collecting frozenlist>=1.1.1\r\n",
      "  Downloading https://pypi.doubanio.com/packages/a0/ea/ee60a6956ccd404f845fb1f290db9eae93cc3c5c4b6ee22c1a47419d6dd1/frozenlist-1.3.1-cp39-cp39-macosx_11_0_arm64.whl (35 kB)\r\n",
      "Requirement already satisfied: pytz>=2020.1 in /Users/luominzhi/miniforge3/envs/python-3.9/lib/python3.9/site-packages (from pandas->datasets) (2022.1)\r\n",
      "Requirement already satisfied: python-dateutil>=2.8.1 in /Users/luominzhi/miniforge3/envs/python-3.9/lib/python3.9/site-packages (from pandas->datasets) (2.8.2)\r\n",
      "Requirement already satisfied: six>=1.5 in /Users/luominzhi/miniforge3/envs/python-3.9/lib/python3.9/site-packages (from python-dateutil>=2.8.1->pandas->datasets) (1.16.0)\r\n",
      "Installing collected packages: xxhash, multidict, fsspec, frozenlist, dill, async-timeout, yarl, responses, multiprocess, aiosignal, aiohttp, datasets\r\n",
      "Successfully installed aiohttp-3.8.1 aiosignal-1.2.0 async-timeout-4.0.2 datasets-2.4.0 dill-0.3.5.1 frozenlist-1.3.1 fsspec-2022.7.1 multidict-6.0.2 multiprocess-0.70.13 responses-0.18.0 xxhash-3.0.0 yarl-1.8.1\r\n"
     ]
    }
   ],
   "source": [
    "#安装datasets\n",
    "#pip安装\n",
    "! pip install datasets\n",
    "\n",
    "#conda安装\n",
    "# ! conda install -c huggingface -c conda-forge datasets"
   ],
   "metadata": {
    "collapsed": false,
    "pycharm": {
     "name": "#%%\n"
    }
   }
  }
 ],
 "metadata": {
  "kernelspec": {
   "display_name": "Python 3",
   "language": "python",
   "name": "python3"
  },
  "language_info": {
   "codemirror_mode": {
    "name": "ipython",
    "version": 2
   },
   "file_extension": ".py",
   "mimetype": "text/x-python",
   "name": "python",
   "nbconvert_exporter": "python",
   "pygments_lexer": "ipython2",
   "version": "2.7.6"
  }
 },
 "nbformat": 4,
 "nbformat_minor": 0
}